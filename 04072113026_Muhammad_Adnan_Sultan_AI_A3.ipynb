{
  "cells": [
    {
      "cell_type": "markdown",
      "metadata": {
        "id": "view-in-github",
        "colab_type": "text"
      },
      "source": [
        "<a href=\"https://colab.research.google.com/github/chmadnansultan/Artificial-Intelligence/blob/main/04072113026_Muhammad_Adnan_Sultan_AI_A3.ipynb\" target=\"_parent\"><img src=\"https://colab.research.google.com/assets/colab-badge.svg\" alt=\"Open In Colab\"/></a>"
      ]
    },
    {
      "cell_type": "code",
      "execution_count": 2,
      "id": "df498b5c-b32c-481b-ac0d-2ffb0abb2bc4",
      "metadata": {
        "id": "df498b5c-b32c-481b-ac0d-2ffb0abb2bc4"
      },
      "outputs": [],
      "source": [
        "def dfs_transportation(n):\n",
        "    stack = [(1, 0)]  # (block, time)\n",
        "\n",
        "    while stack:\n",
        "        block, time = stack.pop()\n",
        "\n",
        "        if block == n:\n",
        "            return time\n",
        "\n",
        "        # Possible movements: walking, running, taking the tram\n",
        "        stack.append((block + 1, time + 1))  # walking\n",
        "        stack.append((block + 3, time + 1.5))  # running\n",
        "        stack.append((block * 2, time + 2))  # taking the tram\n",
        "\n",
        "    return -1  # No path found\n"
      ]
    },
    {
      "cell_type": "code",
      "execution_count": 1,
      "id": "56e9f80e-74db-460a-97a2-f324f2a1d003",
      "metadata": {
        "id": "56e9f80e-74db-460a-97a2-f324f2a1d003"
      },
      "outputs": [],
      "source": [
        "def dp_transportation(n):\n",
        "    dp = [-1] * (n + 1)\n",
        "    dp[1] = 0\n",
        "\n",
        "    for i in range(2, n + 1):\n",
        "        dp[i] = min(dp[i - 1] + 1, dp[i - 3] + 1.5, dp[i // 2] + 2)\n",
        "\n",
        "    return dp[n]\n"
      ]
    },
    {
      "cell_type": "code",
      "execution_count": 4,
      "id": "757af43c-ee0c-4a27-acd4-c30f28e3355f",
      "metadata": {
        "colab": {
          "base_uri": "https://localhost:8080/"
        },
        "id": "757af43c-ee0c-4a27-acd4-c30f28e3355f",
        "outputId": "78c79839-76e2-4c7a-9e1f-0adbc2732e4f"
      },
      "outputs": [
        {
          "output_type": "stream",
          "name": "stdout",
          "text": [
            "The shortest time to travel from block 1 to block 10 is 4.5 minutes.\n"
          ]
        }
      ],
      "source": [
        "from collections import deque\n",
        "\n",
        "def bfs_transportation(n):\n",
        "    queue = deque([(1, 0)])  # (block, time)\n",
        "\n",
        "    while queue:\n",
        "        block, time = queue.popleft()\n",
        "\n",
        "        if block == n:\n",
        "            return time\n",
        "\n",
        "        # Possible movements: walking, running, taking the tram\n",
        "        queue.append((block + 1, time + 1))  # walking\n",
        "        queue.append((block + 3, time + 1.5))  # running\n",
        "        queue.append((block * 2, time + 2))  # taking the tram\n",
        "\n",
        "    return -1  # No path found\n",
        "\n",
        "n_blocks = 10  # Replace with desired number of blocks\n",
        "shortest_time = bfs_transportation(n_blocks)\n",
        "if shortest_time != -1:\n",
        "    print(f\"The shortest time to travel from block 1 to block {n_blocks} is {shortest_time} minutes.\")\n",
        "else:\n",
        "    print(\"No valid path found.\")\n"
      ]
    },
    {
      "cell_type": "code",
      "execution_count": 4,
      "id": "8c6ddf54-a20e-489f-808d-16748edb4225",
      "metadata": {
        "id": "8c6ddf54-a20e-489f-808d-16748edb4225"
      },
      "outputs": [],
      "source": [
        "import heapq\n",
        "\n",
        "def ucs_transportation(n):\n",
        "    heap = [(0, 1)]  # (time, block)\n",
        "    visited = set()\n",
        "\n",
        "    while heap:\n",
        "        time, block = heapq.heappop(heap)\n",
        "\n",
        "        if block == n:\n",
        "            return time\n",
        "\n",
        "        if block not in visited:\n",
        "            visited.add(block)\n",
        "            heapq.heappush(heap, (time + 1, block + 1))  # walking\n",
        "            heapq.heappush(heap, (time + 1.5, block + 3))  # running\n",
        "            heapq.heappush(heap, (time + 2, block * 2))  # taking the tram\n",
        "\n",
        "    return -1  # No path found\n"
      ]
    },
    {
      "cell_type": "code",
      "execution_count": 12,
      "id": "c68b9e60-6066-4d5f-86ec-fe94fe737eec",
      "metadata": {
        "id": "c68b9e60-6066-4d5f-86ec-fe94fe737eec",
        "colab": {
          "base_uri": "https://localhost:8080/"
        },
        "outputId": "1457373d-045c-4c33-d448-1fe248b4034b"
      },
      "outputs": [
        {
          "output_type": "stream",
          "name": "stdout",
          "text": [
            "4.0\n",
            "4.5\n"
          ]
        }
      ],
      "source": [
        "n_blocks = 10 # Replace with desired number of blocks\n",
        "#print(dfs_transportation(n_blocks))\n",
        "print(dp_transportation(n_blocks))\n",
        "print(ucs_transportation(n_blocks))\n"
      ]
    },
    {
      "cell_type": "code",
      "execution_count": null,
      "id": "a98d1aaf-0073-4ed8-a8a9-a98106aaf375",
      "metadata": {
        "id": "a98d1aaf-0073-4ed8-a8a9-a98106aaf375"
      },
      "outputs": [],
      "source": [
        "#Problem 2"
      ]
    },
    {
      "cell_type": "code",
      "execution_count": null,
      "id": "f224d592-3ff6-4ae7-9c6d-de604b14eddf",
      "metadata": {
        "colab": {
          "base_uri": "https://localhost:8080/"
        },
        "id": "f224d592-3ff6-4ae7-9c6d-de604b14eddf",
        "outputId": "ffe779e2-6cce-4dfb-c432-0d8a30855a50"
      },
      "outputs": [
        {
          "output_type": "stream",
          "name": "stdout",
          "text": [
            "Minimum cost from I-8 Markaz to F-7 Markaz: 10.0\n"
          ]
        }
      ],
      "source": [
        "import heapq\n",
        "\n",
        "# Coordinates for Markaz (latitude, longitude)\n",
        "coordinates = {\n",
        "    'I-8 Markaz': (33.6844, 73.0591),\n",
        "    'I-10 Markaz': (33.6731, 72.9727),\n",
        "    'F-7 Markaz': (33.7223, 73.0619),\n",
        "    'E-11 Markaz': (33.5886, 73.0785)\n",
        "}\n",
        "\n",
        "# Define the graph (distance as weights/costs)\n",
        "graph = {\n",
        "    'I-8 Markaz': {'I-10 Markaz': 5, 'F-7 Markaz': 10},\n",
        "    'I-10 Markaz': {'I-8 Markaz': 5, 'F-7 Markaz': 8, 'E-11 Markaz': 15},\n",
        "    'F-7 Markaz': {'I-8 Markaz': 10, 'I-10 Markaz': 8, 'E-11 Markaz': 20},\n",
        "    'E-11 Markaz': {'I-10 Markaz': 15, 'F-7 Markaz': 20}\n",
        "}\n",
        "\n",
        "# Heuristic function (distance to destination)\n",
        "def heuristic(node, dest):\n",
        "    lat1, lon1 = coordinates[node]\n",
        "    lat2, lon2 = coordinates[dest]\n",
        "    # Using a simple heuristic of Euclidean distance\n",
        "    return ((lat1 - lat2) ** 2 + (lon1 - lon2) ** 2) ** 0.5\n",
        "\n",
        "# A* Search Algorithm\n",
        "def astar_search(graph, start, goal):\n",
        "    queue = [(0, start)]\n",
        "    visited = set()\n",
        "\n",
        "    while queue:\n",
        "        cost, node = heapq.heappop(queue)\n",
        "\n",
        "        if node == goal:\n",
        "            return cost\n",
        "\n",
        "        if node not in visited:\n",
        "            visited.add(node)\n",
        "            for neighbor, weight in graph[node].items():\n",
        "                heapq.heappush(queue, (cost + weight + heuristic(neighbor, goal), neighbor))\n",
        "\n",
        "    return float('inf')\n",
        "\n",
        "# Example usage\n",
        "source_markaz = 'I-8 Markaz'\n",
        "destination_markaz = 'F-7 Markaz'\n",
        "\n",
        "min_cost = astar_search(graph, source_markaz, destination_markaz)\n",
        "print(f\"Minimum cost from {source_markaz} to {destination_markaz}: {min_cost}\")\n"
      ]
    },
    {
      "cell_type": "code",
      "execution_count": 13,
      "id": "bde1c303-04a3-4b6f-9554-5f897edae7fe",
      "metadata": {
        "id": "bde1c303-04a3-4b6f-9554-5f897edae7fe"
      },
      "outputs": [],
      "source": [
        "#Problem 3"
      ]
    },
    {
      "cell_type": "code",
      "execution_count": 14,
      "id": "d1d19af4-fce1-4c51-a227-b1a5b931d090",
      "metadata": {
        "colab": {
          "base_uri": "https://localhost:8080/"
        },
        "id": "d1d19af4-fce1-4c51-a227-b1a5b931d090",
        "outputId": "095a5cab-5736-4761-b540-23f61af174d0"
      },
      "outputs": [
        {
          "output_type": "stream",
          "name": "stdout",
          "text": [
            "True Minimum Cost: 1\n",
            "Predicted Minimum Cost: -304049824874092496990312352698718311843202658726925320670360969610837831552480755722699243562002174663367027740205511664732169899364445843827801575490390028529909322323484202021886044267642105236912503915744819582581555033151047827196617338709206183889594925\n"
          ]
        }
      ],
      "source": [
        "import numpy as np\n",
        "from itertools import combinations\n",
        "\n",
        "# Function to find the minimum cost path (for generating labeled data)\n",
        "def find_minimum_cost_path(n):\n",
        "    # Generate blocks\n",
        "    blocks = list(range(1, n + 1))\n",
        "\n",
        "    # Generate all possible paths\n",
        "    paths = list(combinations(blocks, 2))\n",
        "\n",
        "    # Calculate costs for each path\n",
        "    costs = {path: abs(path[1] - path[0]) for path in paths}\n",
        "\n",
        "    # Find the minimum cost path\n",
        "    min_path = min(costs, key=costs.get)\n",
        "    min_cost = costs[min_path]\n",
        "\n",
        "    return blocks, min_path, min_cost\n",
        "\n",
        "# Generate labeled dataset\n",
        "def generate_dataset(num_examples):\n",
        "    dataset = []\n",
        "\n",
        "    for _ in range(num_examples):\n",
        "        n = np.random.randint(5, 15)  # Varying number of blocks 'n'\n",
        "        blocks, min_path, min_cost = find_minimum_cost_path(n)\n",
        "        dataset.append((blocks, min_path, min_cost))\n",
        "\n",
        "    return dataset\n",
        "\n",
        "# Generate labeled dataset with 20 training examples\n",
        "training_data = generate_dataset(20)\n",
        "\n",
        "# Structured Perceptron for learning the cost function\n",
        "class StructuredPerceptron:\n",
        "    def __init__(self):\n",
        "        self.weights = {}\n",
        "\n",
        "    def train(self, data, num_epochs):\n",
        "        for _ in range(num_epochs):\n",
        "            for blocks, min_path, true_cost in data:\n",
        "                predicted_cost = self.predict(blocks, min_path)\n",
        "                if predicted_cost != true_cost:\n",
        "                    self.update_weights(blocks, min_path, true_cost)\n",
        "\n",
        "    def predict(self, blocks, min_path):\n",
        "        return sum(self.weights.get(path, 0) for path in combinations(blocks, 2))\n",
        "\n",
        "    def update_weights(self, blocks, min_path, true_cost):\n",
        "        predicted_cost = self.predict(blocks, min_path)\n",
        "        for path in combinations(blocks, 2):\n",
        "            self.weights[path] = self.weights.get(path, 0) + true_cost - predicted_cost\n",
        "\n",
        "# Training the Structured Perceptron\n",
        "sp = StructuredPerceptron()\n",
        "sp.train(training_data, num_epochs=10)\n",
        "\n",
        "# Testing the learned cost function\n",
        "test_blocks, true_min_path, true_min_cost = find_minimum_cost_path(10)  # Example test case\n",
        "predicted_min_cost = sp.predict(test_blocks, true_min_path)\n",
        "\n",
        "print(f\"True Minimum Cost: {true_min_cost}\")\n",
        "print(f\"Predicted Minimum Cost: {predicted_min_cost}\")\n"
      ]
    },
    {
      "cell_type": "code",
      "execution_count": null,
      "id": "c4e55b79-c5ae-4d76-9735-ea37be8a2924",
      "metadata": {
        "id": "c4e55b79-c5ae-4d76-9735-ea37be8a2924"
      },
      "outputs": [],
      "source": []
    },
    {
      "cell_type": "code",
      "execution_count": null,
      "id": "ecd13163-f341-4133-9d16-0dddc0c178dd",
      "metadata": {
        "id": "ecd13163-f341-4133-9d16-0dddc0c178dd"
      },
      "outputs": [],
      "source": []
    }
  ],
  "metadata": {
    "kernelspec": {
      "display_name": "Python 3 (ipykernel)",
      "language": "python",
      "name": "python3"
    },
    "language_info": {
      "codemirror_mode": {
        "name": "ipython",
        "version": 3
      },
      "file_extension": ".py",
      "mimetype": "text/x-python",
      "name": "python",
      "nbconvert_exporter": "python",
      "pygments_lexer": "ipython3",
      "version": "3.11.2"
    },
    "colab": {
      "provenance": [],
      "include_colab_link": true
    }
  },
  "nbformat": 4,
  "nbformat_minor": 5
}